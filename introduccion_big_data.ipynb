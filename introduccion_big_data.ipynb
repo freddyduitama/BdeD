{
  "nbformat": 4,
  "nbformat_minor": 0,
  "metadata": {
    "colab": {
      "name": "introduccion-big-data.ipynb",
      "provenance": [],
      "collapsed_sections": [],
      "include_colab_link": true
    },
    "kernelspec": {
      "display_name": "Python 3",
      "language": "python",
      "name": "python3"
    },
    "language_info": {
      "codemirror_mode": {
        "name": "ipython",
        "version": 3
      },
      "file_extension": ".py",
      "mimetype": "text/x-python",
      "name": "python",
      "nbconvert_exporter": "python",
      "pygments_lexer": "ipython3",
      "version": "3.7.3"
    }
  },
  "cells": [
    {
      "cell_type": "markdown",
      "metadata": {
        "id": "view-in-github",
        "colab_type": "text"
      },
      "source": [
        "<a href=\"https://colab.research.google.com/github/freddyduitama/BdeD/blob/main/introduccion_big_data.ipynb\" target=\"_parent\"><img src=\"https://colab.research.google.com/assets/colab-badge.svg\" alt=\"Open In Colab\"/></a>"
      ]
    },
    {
      "cell_type": "markdown",
      "metadata": {
        "id": "EWSniNPAjjQh"
      },
      "source": [
        "<p><img alt=\"udeA logo\" height=\"120px\" src=\"https://github.com/freddyduitama/images/blob/master/logo.png?raw=true\" align=\"left\" hspace=\"10px\" vspace=\"0px\" style=\"width:107px;height:152px;\"></p>\n",
        "\n",
        "# <center> <font color='0B5345'> Las B .de. D. y el  Big Data. </font> </center>\n",
        "#### <center><font face=\"Verdana\"><a  href=\"https://colab.research.google.com/drive/1gzdWyLu6Q8lpcCZM_k_7zWeiFi6yu3XL#scrollTo=EWSniNPAjjQh\">Las B. de D. y el Big Data</a><a>&nbsp;&nbsp; | </a><a  href=\"https://colab.research.google.com/drive/1Ddb-oi4v_FaJPOi2LrdAENitLC8GWpu5#scrollTo=-O6sHpqcFnVCb\" >TOC</a><a>&nbsp;  |</a> <a>&nbsp;&nbsp;</a> <a   href=\"https://colab.research.google.com/drive/17hd_FRvjeEFyUxn98yLpHyhnMTl3QJg-#scrollTo=EWSniNPAjjQh\">Características de un DBMS.</a></font><center><br>"
      ]
    },
    {
      "cell_type": "markdown",
      "metadata": {
        "id": "2D8pKMdb4Rwi"
      },
      "source": [
        "## 1. Definición. <br>\n",
        "<font face=\"Verdana\" size=\"2\">\n",
        "<p align=\"justify\">\n",
        "Big data hace referencia a aquellos conjuntos de datos cuyo tamaño va más allá de la habilidad que las herramientas típicas del software de bases de datos tienen para capturar, almacenar, gestionar y analizar la información. \n",
        "\n",
        "Big data no solo hace referencia al tamaño, también incluye aspectos como complejidad, ruido, heterogeneidad, datos longitudinales y la posibilidad de dar respuestas a partir de los datos a preguntas que antes no podían ser resueltas. Las cinco V de Big Data hacen referencia a:\n",
        "<ul>\n",
        "<li><b>Volumen:  </b>En 2012, la información digital en temas de salud en el mundo se estimó en 500 petabytes $(10^{15})$ y se esperaba que alcanzara 25,000 petabytes in $2020^{[1]}$. Los ingenieros y los científicos de datos necesitan de nuevos algoritmos y herramientas para enfrentar estos retos. </li>\n",
        "<center>$10^{24}$ = Yottabyte  &emsp;&emsp;&emsp;$10^{21}$ = Zettabyte  &emsp;&emsp;&emsp;$10^{18}$ = Exabyte  &emsp;&emsp;&emsp;$10^{12}$ = Terabyte  &emsp;&emsp;&emsp;   $10^{9}$ = Gigabyte  &emsp;&emsp;&emsp;      </center></li>\n",
        "<li><b>Velocidad: </b>El mundo de hoy requiere que la información circule en tiempo real tanto como sea posible. En muchos casos, la velocidad de las respuestas se prioriza por encima del volumen de datos a analizar; es mejor contar con un limitado número de datos en tiempo real que esperar muchos datos a costa de una respuesta lenta, tal es el caso de las aplicaciones que procesan stream de datos. </li>\n",
        "<li><b>Variedad:  </b> Los datos pueden obtenerse desde diferentes fuentes y en diferentes formatos: Teléfonos inteligentes, GPS, sensores, redes sociales, emails, datos biológicos, etc. Estos pueden estar representados como gráficas, imágenes, bit-encoded, vectores, matrices, etc.</li>\n",
        "<li><b>Veracidad: </b>Se refiere a la exactitud y veracidad de los conjuntos de datos. La exactitud no sólo mide la calidad de los datos en sí, sino cuán confiable es la fuente de datos respecto a sesgos, anormalidades o inconsistencias y volatilidad.  \n",
        "<ul> <li><em>Volatilidad</em> La volatilidad es la tasa de cambio y la vida útil de los datos; un ejemplo de datos muy volátiles son los producidos por los medios de comunicación social, en los que los sentimientos y los temas de tendencia cambian rápida y frecuentemente.</li>\n",
        "<li> Se entiende por <em>sesgo</em> la interferencia que produce en los análisis y procesamiento de datos las ideas, prejuicios o influencias que marcaron la recolección de los datos en una dirección determinada. </li>\n",
        "</ul>\n",
        "<li><b>Valor:  </b>El valor es capturado tanto en términos de ganancias sociales o monetarias inmediatas como en  ventaja competitiva estratégica. Ejemplos de mejora del valor son: la mejora en transparencia, los descubrimientos impulsados por los datos, la segmentación y personalización del mercado, habilitar la automatización, la potenciación de la innovación social o innovación empresarial.</li>\n",
        "</ul>\n",
        "</p>"
      ]
    },
    {
      "cell_type": "markdown",
      "metadata": {
        "id": "2zqKLv2j4Rwk"
      },
      "source": [
        "## 2. Línea de tiempo de los datos digitales.\n",
        "<center><img src=\"https://github.com/freddyduitama/images/blob/master/time-line.png?raw=true\"  height=\"400\" width=\"700\"></center>\n",
        "    <caption><center><font color='0B5345'> <u> <b>Figura 1: Línea de tiempo de los datos digitales.</b><br> </u> .</font></center></caption><br>"
      ]
    },
    {
      "cell_type": "markdown",
      "metadata": {
        "id": "LRK9WoDT4Rwk"
      },
      "source": [
        "<font face=\"Verdana\" >\n",
        "<p align=\"justify\">\n",
        "<font  color=\"0B5345\"><b>60s and 70s: Sistemas de Bases de Datos relacionales. </b></font>\n",
        " <ul>\n",
        "<li>1956: El <em>Disco Duro</em> es introducido para un computador IBM. Almacenan 5 millones de caracteres de 6-bits (el equivalente de 3.75 millones de bytes de 8-bits) en un arreglo de 50 discos.</li>\n",
        "<li>1963: Roger Tomlinson desarrolla el Sistema de Información Geográfica de Canadá, el primer SIG en el mundo.   </li>\n",
        "<li>1970: Ted Codd define <em>El modelo de datos relacional</em> $^{[2]}$ en el laboratorio de investigación de IBM .<a href=\"https://www.seas.upenn.edu/~zives/03f/cis550/codd.pdf\"> Ver.   </a></li>\n",
        "     <li>1974:  IBM <em>System R.</em> Un proyecto seminal que por primera vez implementó SQL; este luego se convirtió en el lenguaje de consulta estándar  para las bases de datos relacionales. System R fue desarrollado en los laboratorios de IBM en San José. </li>\n",
        "    </ul>\n",
        "<font  color=\"0B5345\"><b>1980s: PC y herramientas de  software.</b></font>\n",
        "<ul>\n",
        "<li>1981: El <em>primer PC IBM</em> (Model 5150). Este PC estaba basado en el microprocesador Intel 8088 de 4.77 MHz y usó como sistema operativo MS-DOS de Microsoft.</li>\n",
        "<li>1982. Mitch Kapor desarrolla <em>Lotus 1-2-3</em>.</li>\n",
        "<li>1984: Matlab (Matrix Laboratory) es liberado. Software diseñado por el profesor Cleve Moler de la  Universidad de  Nuevo México  </li>\n",
        "  <li>1988: <em>Mathematica</em> es creado por Stephen Wolfram, un científico británico.  Un lenguaje de programación que usa símbolos matemáticos y es utilizado por matemáticos, científicos, académicos e ingenieros.</li>\n",
        "<li>1988: Barry Devlin y Paul Murphy publican el artículo  <em>An architecture for a business and information system</em> e introducen el  término \"business data warehouse\". Un Data Warehouse (DW) almacena la información corporativa y los datos tomados desde los sistemas operacionales y desde un amplio rango de fuentes.  Data Warehouses son diseñados para soportar los procesos de toma de decisiones. Para ello coleccionan, consolidan y  habilitan el análisis de la información. </li>\n",
        "<li>March 1989. Se publica la propuesta de Tim Berners-Lee sobre <em>la WWW. </em><a href=\"http://info.cern.ch/Proposal.html\"> Ver. </a> </li>\n",
        "</ul>\n",
        "<font  color=\"0B5345\"><b> 1990s: EL Universo WEB.</b> </font>\n",
        "<ul>\n",
        "<li>1990: Aparece el término <em>\"Data mining\"</em>. En 1995 se realiza la primera conferencia internacional en descubrimiento de conocimiento y minería de datos.</li>\n",
        "<li>Tecnología de B. de D. distribuidas y paralelas. Desde mediados de los años 90, la gestión de información para la Web ha usado esquemas paralelos y distribuidos para reemplazar los centralizados.</li>\n",
        "<li>1994: Emerge el comercio electrónico en la Web. </li>\n",
        "     <li>1995: EL motor de búsqueda Altavista llegó a ser uno de los  más usados en la década del 90.. </li>\n",
        "<li>1998:<em>El motor de búsqueda Google. </em> Sergey Brin y Lawrence Page publican el artículo  \"The PageRank Citation Ranking:\n",
        "Bringing Order to the Web\" $^{[3]}$<a href=\"http://ilpubs.stanford.edu:8090/422/1/1999-66.pdf\"> Ver.</a></li>\n",
        "    <li>1999: Web 2.0.</li>. \n",
        " </ul>\n",
        "<font  color=\"0B5345\"><b>2000s: Computación en la nube y Big Data.</b></font> \n",
        "<ul>\n",
        "<li>2002: Map-Reduce en Google. Un modelo de programación para procesar grandes volúmenes de datos usando un paradigma paralelo y distribuido. <a href=\"https://static.googleusercontent.com/media/research.google.com/es//archive/mapreduce-osdi04.pdf\"> Ver</a></li>\n",
        "<li>2003: Google File System.  Un sistema de archivos distribuidos escalable para grandes aplicaciones distribuidas de datos intensivos. <a href=\"https://static.googleusercontent.com/media/research.google.com/es//archive/gfs-sosp2003.pdf\"> Ver</a>  </li>\n",
        "    <li>2003: Facebook.</li>\n",
        "    <li>2005: Youtube (video).</li>\n",
        "<li>2006: Hadoop. La versión open source de Google File System.</li>\n",
        "        <li>2006. Google BigTable. :Bigtable es un sistema de almacenamiento distribuido para la gestión de datos estructurados que está diseñado para escalar a un tamaño muy grande: petabytes de datos a través de miles de servidores en la nube.</li>\n",
        "        <li>2012: Spark.Un \"motor de cómputo\" que se encarga de programar, distribuir y supervisar aplicaciones que consisten en muchas tareas de cómputo a través de muchas máquinas  organizadas en un clúster de cómputación.\n",
        "</li>\n",
        "    </ul>   \n",
        "</p>\n",
        "</font>"
      ]
    },
    {
      "cell_type": "markdown",
      "metadata": {
        "id": "iopYZUd64Rwl"
      },
      "source": [
        "## Video."
      ]
    },
    {
      "cell_type": "code",
      "metadata": {
        "id": "O87rpghf4Rwl",
        "colab": {
          "base_uri": "https://localhost:8080/"
        },
        "outputId": "fa79c145-4342-447e-fd9e-40db047cc1fe"
      },
      "source": [
        "from IPython.display import YouTubeVideo\n",
        "vid = YouTubeVideo(\"JCFdiSFZRCY\",width=200, height=150,)\n",
        "display(vid)\n",
        "#display(vid)"
      ],
      "execution_count": null,
      "outputs": [
        {
          "output_type": "display_data",
          "data": {
            "text/html": [
              "\n",
              "        <iframe\n",
              "            width=\"200\"\n",
              "            height=\"150\"\n",
              "            src=\"https://www.youtube.com/embed/JCFdiSFZRCY\"\n",
              "            frameborder=\"0\"\n",
              "            allowfullscreen\n",
              "        ></iframe>\n",
              "        "
            ],
            "text/plain": [
              "<IPython.lib.display.YouTubeVideo at 0x7fbc677dce80>"
            ],
            "image/jpeg": "[encoded data removed]"
          },
          "metadata": {
            "tags": []
          }
        }
      ]
    },
    {
      "cell_type": "markdown",
      "metadata": {
        "id": "xn87LMr2ooZC"
      },
      "source": [
        "## Bibliography and related resources.\n",
        "\n",
        "<p align=\"justify\"> [1]&nbsp;&nbsp;&nbsp;&nbsp; Hersh, W., Jacko, J. A., Greenes, R., Tan, J., Janies, D., Embi, P. J., & Payne, P. R. <cite>Health-care hit or miss? </cite> Nature, 470(7334), 327. 2011. <a href=\"https://www.nature.com/articles/470327a\"> here</a> </p>\n",
        "\n",
        "<p align=\"justify\"> [2]&nbsp;&nbsp;&nbsp;&nbsp; E.F. Codd.<cite>“A Relational Model of Data for Large Shared Data Bank”.</cite> Communication of  the ACM. 13. num 6, pp. 377-387. 1970. <a href=\"https://www.seas.upenn.edu/~zives/03f/cis550/codd.pdf\"> here. </a></p>\n",
        "\n",
        "<p align=\"justify\"> [3]&nbsp;&nbsp;&nbsp;&nbsp;Sergey Brin and Lawrence Page. <cite> The Anatomy of a Large-Scale Hypertextual Web Search Engine. </cite> Computer Networks and ISDN Systems. <br>  &emsp;&emsp; Volume 30, Issues 1–7, April 1998, Pages 107-117.  <a href=\"http://infolab.stanford.edu/pub/papers/google.pdf\"> here</a> </p>\n",
        "\n",
        "<p align=\"justify\"> [4]&nbsp;&nbsp;&nbsp;&nbsp;S. Ghemawat, H. Gobioff, and S.-T. Leung, <cite>“The Google file system,”</cite> 19th ACM Symposium on Operating Systems Principles, 2003. <a href=\"https://static.googleusercontent.com/media/research.google.com/es//archive/gfs-sosp2003.pdf\"> here</a></p>\n",
        "    \n",
        "<p align=\"justify\"> [5]&nbsp;&nbsp;&nbsp;&nbsp; Dean, J. and Ghemawat, S. 2004. <cite>MapReduce: Simplified data processing on large clusters. </cite>In Proceedings of Operating Systems Design <br>&emsp;&emsp; and Implementation (OSDI). San Francisco, CA. 137-150.  <a href=\"https://static.googleusercontent.com/media/research.google.com/es//archive/mapreduce-osdi04.pdf\"> here</a> </p>\n",
        "\n",
        "<p align=\"justify\"> [6]&nbsp;&nbsp;&nbsp;&nbsp; Matei Zaharia, et. al. <cite>Resilient Distributed Datasets: A Fault-Tolerant Abstraction for In-Memory Cluster Computing. </cite> NSDI’12 Proceedings of <br> &emsp;&emsp;  the 9thUSENIX conference on Networked Systems Design and Implementation: pp. 15-28. 2012.  <a href=\"https://www.usenix.org/system/files/conference/nsdi12/nsdi12-final138.pdf\"> here</a></p>\n",
        "    \n",
        "\n",
        "\n",
        "\n",
        "\n",
        "\n"
      ]
    },
    {
      "cell_type": "markdown",
      "metadata": {
        "id": "nWkNSGVJvNE3"
      },
      "source": [
        "<p align=\"left\"><b><font face='Courier New' color=\"black\" align=\"left\" size=4>Copyright.</font></b>\n",
        "<img alt=\"udeA logo\" height=\"120px\" src=\"https://github.com/freddyduitama/images/blob/master/in2lab.png?raw=true\" align=\"right\" hspace=\"10px\" vspace=\"0px\" height=\"120\" width=\"350\"\">\n",
        "                                                                                                                              \n",
        "<font face='Verdana' size=2> \n",
        "John Freddy Duitama M.<br>\n",
        "Universidad de Antioquia.<br>\n",
        "Apartado Aéreo 1226 | Dirección: calle 67 No. 53 - 108.<br>\n",
        "Medellín, Colombia. South America.\n",
        "    \n",
        "</p>\n",
        "</font>"
      ]
    },
    {
      "cell_type": "markdown",
      "metadata": {
        "id": "lzvhMt-A4Rwn"
      },
      "source": [
        "<center><b><font color='0B5345' face=\"Lucida Calligraphy,Comic Sans MS,Lucida Console\" size=\"4\">Universidad de Antioquia.</font></b> </center>"
      ]
    }
  ]
}